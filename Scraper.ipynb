{
 "cells": [
  {
   "cell_type": "markdown",
   "metadata": {},
   "source": [
    "# Scrape all dem sites"
   ]
  },
  {
   "cell_type": "markdown",
   "metadata": {},
   "source": [
    "## Import dependencies"
   ]
  },
  {
   "cell_type": "code",
   "execution_count": 1,
   "metadata": {},
   "outputs": [],
   "source": [
    "from bs4 import BeautifulSoup as bs\n",
    "import requests \n",
    "import selenium\n",
    "from splinter import Browser"
   ]
  },
  {
   "cell_type": "markdown",
   "metadata": {},
   "source": [
    "### Setup for Selenium"
   ]
  },
  {
   "cell_type": "code",
   "execution_count": 29,
   "metadata": {},
   "outputs": [],
   "source": [
    "NASAurl = 'https://mars.nasa.gov/news'\n",
    "\n",
    "executable_path = {'executable_path': '/usr/bin/chromedriver'}\n",
    "browser = Browser('chrome', **executable_path, headless=True)"
   ]
  },
  {
   "cell_type": "code",
   "execution_count": 30,
   "metadata": {},
   "outputs": [
    {
     "name": "stdout",
     "output_type": "stream",
     "text": [
      "Headline:\tRobotic Toolkit Added to NASA's Mars 2020 Rover\n",
      "Teaser:\tThe bit carousel, which lies at the heart of the rover's Sample Caching System, is now aboard NASA's newest rover. \n"
     ]
    }
   ],
   "source": [
    "browser.visit(NASAurl)\n",
    "\n",
    "html = browser.html\n",
    "soup = bs(html, 'html.parser')\n",
    "\n",
    "newsTitle = soup.find('div', class_='image_and_description_container')\\\n",
    "                .find('div', class_='list_text')\\\n",
    "                .find('div', class_='content_title')\\\n",
    "                .find('a')\\\n",
    "                .text\n",
    "\n",
    "newsP = soup.find('div', class_='image_and_description_container')\\\n",
    "            .find('div', class_='list_text')\\\n",
    "            .find('div', class_='article_teaser_body')\\\n",
    "            .text\n",
    "\n",
    "print(f\"Headline:\\t{newsTitle}\")\n",
    "print(f\"Teaser:\\t{newsP}\")"
   ]
  },
  {
   "cell_type": "markdown",
   "metadata": {},
   "source": [
    "## NASA\n",
    "[Mars website](https://mars.nasa.gov/news)"
   ]
  },
  {
   "cell_type": "code",
   "execution_count": 46,
   "metadata": {},
   "outputs": [
    {
     "name": "stdout",
     "output_type": "stream",
     "text": [
      "Image link:\thttps://www.jpl.nasa.gov/spaceimages/images/mediumsize/PIA19821_ip.jpg\n"
     ]
    }
   ],
   "source": [
    "JPLurl = 'https://www.jpl.nasa.gov/spaceimages/?search=&category=Mars' \n",
    "\n",
    "browser.visit(JPLurl)\n",
    "browser.click_link_by_partial_text('FULL IMAGE')\n",
    "\n",
    "html = browser.html\n",
    "soup = bs(html, 'html.parser')\n",
    "\n",
    "imageLink = soup.find('img', class_='fancybox-image')['src']\n",
    "featuredImageURL = 'https://www.jpl.nasa.gov' + imageLink\n",
    "print(f\"Image link:\\t{featuredImageURL}\")"
   ]
  },
  {
   "cell_type": "code",
   "execution_count": null,
   "metadata": {},
   "outputs": [],
   "source": []
  }
 ],
 "metadata": {
  "kernelspec": {
   "display_name": "Python 3",
   "language": "python",
   "name": "python3"
  },
  "language_info": {
   "codemirror_mode": {
    "name": "ipython",
    "version": 3
   },
   "file_extension": ".py",
   "mimetype": "text/x-python",
   "name": "python",
   "nbconvert_exporter": "python",
   "pygments_lexer": "ipython3",
   "version": "3.7.4"
  }
 },
 "nbformat": 4,
 "nbformat_minor": 4
}
